{
 "cells": [
  {
   "cell_type": "markdown",
   "id": "header",
   "metadata": {},
   "source": [
    "# 데이터 분포 분석\n",
    "\n",
    "이 노트북은 dummy_data_100.json의 주요 필드에 대한 통계와 히스토그램을 생성합니다.\n",
    "\n",
    "## 분석 대상 필드\n",
    "- user_group_vector\n",
    "- session_click_count\n",
    "- session_total_view_time\n",
    "- predicted_price\n",
    "- lead_time\n",
    "- predicted_quality\n",
    "- promotion\n",
    "- action_t\n",
    "- clicked\n",
    "- page_view_time_sec\n",
    "- purchased"
   ]
  },
  {
   "cell_type": "code",
   "execution_count": null,
   "id": "imports",
   "metadata": {},
   "outputs": [],
   "source": [
    "import json\n",
    "import numpy as np\n",
    "import matplotlib.pyplot as plt\n",
    "import pandas as pd\n",
    "from pathlib import Path\n",
    "\n",
    "# 한글 폰트 설정\n",
    "plt.rcParams['font.family'] = 'DejaVu Sans'\n",
    "plt.rcParams['axes.unicode_minus'] = False\n",
    "\n",
    "# 그래프 스타일 설정\n",
    "plt.style.use('seaborn-v0_8-darkgrid')\n",
    "plt.rcParams['figure.figsize'] = (15, 10)"
   ]
  },
  {
   "cell_type": "code",
   "execution_count": null,
   "id": "load_data",
   "metadata": {},
   "outputs": [],
   "source": [
    "# 데이터 로드\n",
    "data_path = Path('dummy_data_100.json')\n",
    "\n",
    "with open(data_path, 'r', encoding='utf-8') as f:\n",
    "    data = json.load(f)\n",
    "\n",
    "print(f\"총 트랜지션 수: {len(data)}개\")\n",
    "print(f\"샘플 데이터 키: {data[0].keys()}\")"
   ]
  },
  {
   "cell_type": "code",
   "execution_count": null,
   "id": "extract_data",
   "metadata": {},
   "outputs": [],
   "source": [
    "# 필드별 데이터 추출\n",
    "extracted_data = {\n",
    "    'user_group_vector_0': [],  # high_quality\n",
    "    'user_group_vector_1': [],  # low_price\n",
    "    'session_click_count': [],\n",
    "    'session_total_view_time': [],\n",
    "    'predicted_price': [],\n",
    "    'lead_time': [],\n",
    "    'predicted_quality': [],\n",
    "    'promotion': [],\n",
    "    'action_t': [],\n",
    "    'clicked': [],\n",
    "    'page_view_time_sec': [],\n",
    "    'purchased': []\n",
    "}\n",
    "\n",
    "for transition in data:\n",
    "    # user_group_vector\n",
    "    user_group = transition['state_t']['user_profile']['user_group_vector']\n",
    "    extracted_data['user_group_vector_0'].append(user_group[0])\n",
    "    extracted_data['user_group_vector_1'].append(user_group[1])\n",
    "    \n",
    "    # session_history\n",
    "    session_history = transition['state_t']['session_history']\n",
    "    extracted_data['session_click_count'].append(session_history['session_click_count'])\n",
    "    extracted_data['session_total_view_time'].append(session_history['session_total_view_time'])\n",
    "    \n",
    "    # candidate_item_info\n",
    "    candidate = transition['state_t']['candidate_item_info']\n",
    "    extracted_data['predicted_price'].append(candidate['predicted_price'])\n",
    "    extracted_data['lead_time'].append(candidate['lead_time'])\n",
    "    extracted_data['predicted_quality'].append(candidate['predicted_quality'])\n",
    "    extracted_data['promotion'].append(candidate['promotion'])\n",
    "    \n",
    "    # action\n",
    "    extracted_data['action_t'].append(transition['action_t'])\n",
    "    \n",
    "    # reward_ingredients\n",
    "    reward = transition['reward_ingredients']\n",
    "    extracted_data['clicked'].append(reward['clicked'])\n",
    "    extracted_data['page_view_time_sec'].append(reward['page_view_time_sec'])\n",
    "    extracted_data['purchased'].append(reward['purchased'])\n",
    "\n",
    "print(\"데이터 추출 완료!\")\n",
    "print(f\"추출된 필드: {list(extracted_data.keys())}\")"
   ]
  },
  {
   "cell_type": "code",
   "execution_count": null,
   "id": "statistics_function",
   "metadata": {},
   "outputs": [],
   "source": [
    "# 통계 계산 함수\n",
    "def calculate_statistics(values, field_name):\n",
    "    \"\"\"필드의 통계 정보를 계산하고 출력\"\"\"\n",
    "    values_array = np.array(values)\n",
    "    \n",
    "    stats = {\n",
    "        '최소값 (Min)': np.min(values_array),\n",
    "        '최대값 (Max)': np.max(values_array),\n",
    "        '평균 (Mean)': np.mean(values_array),\n",
    "        '중앙값 (Median)': np.median(values_array),\n",
    "        '표준편차 (Std)': np.std(values_array),\n",
    "        '1사분위수 (Q1)': np.percentile(values_array, 25),\n",
    "        '3사분위수 (Q3)': np.percentile(values_array, 75)\n",
    "    }\n",
    "    \n",
    "    print(f\"\\n{'='*60}\")\n",
    "    print(f\"{field_name} 통계\")\n",
    "    print('='*60)\n",
    "    for stat_name, value in stats.items():\n",
    "        if isinstance(value, float):\n",
    "            print(f\"{stat_name:20s}: {value:>12.2f}\")\n",
    "        else:\n",
    "            print(f\"{stat_name:20s}: {value:>12}\")\n",
    "    \n",
    "    return stats\n",
    "\n",
    "def plot_histogram(values, field_name, stats, bins='auto'):\n",
    "    \"\"\"히스토그램 생성\"\"\"\n",
    "    fig, ax = plt.subplots(figsize=(12, 6))\n",
    "    \n",
    "    # 히스토그램\n",
    "    n, bins_edges, patches = ax.hist(values, bins=bins, alpha=0.7, \n",
    "                                       color='steelblue', edgecolor='black')\n",
    "    \n",
    "    # 통계선 추가\n",
    "    ax.axvline(stats['평균 (Mean)'], color='red', linestyle='--', \n",
    "               linewidth=2, label=f\"Mean: {stats['평균 (Mean)']:.2f}\")\n",
    "    ax.axvline(stats['중앙값 (Median)'], color='green', linestyle='--', \n",
    "               linewidth=2, label=f\"Median: {stats['중앙값 (Median)']:.2f}\")\n",
    "    \n",
    "    # 레이블 및 제목\n",
    "    ax.set_xlabel('Value', fontsize=12, fontweight='bold')\n",
    "    ax.set_ylabel('Frequency', fontsize=12, fontweight='bold')\n",
    "    ax.set_title(f'{field_name} Distribution', fontsize=14, fontweight='bold', pad=20)\n",
    "    ax.legend(fontsize=10)\n",
    "    ax.grid(True, alpha=0.3)\n",
    "    \n",
    "    # 통계 정보 텍스트 박스\n",
    "    stats_text = f\"Min: {stats['최소값 (Min)']:.2f}\\n\"\n",
    "    stats_text += f\"Max: {stats['최대값 (Max)']:.2f}\\n\"\n",
    "    stats_text += f\"Mean: {stats['평균 (Mean)']:.2f}\\n\"\n",
    "    stats_text += f\"Median: {stats['중앙값 (Median)']:.2f}\\n\"\n",
    "    stats_text += f\"Std: {stats['표준편차 (Std)']:.2f}\"\n",
    "    \n",
    "    ax.text(0.98, 0.98, stats_text, transform=ax.transAxes,\n",
    "            verticalalignment='top', horizontalalignment='right',\n",
    "            bbox=dict(boxstyle='round', facecolor='wheat', alpha=0.8),\n",
    "            fontsize=10, fontfamily='monospace')\n",
    "    \n",
    "    plt.tight_layout()\n",
    "    return fig"
   ]
  },
  {
   "cell_type": "markdown",
   "id": "section_user_group",
   "metadata": {},
   "source": [
    "## 1. User Group Vector 분석"
   ]
  },
  {
   "cell_type": "code",
   "execution_count": null,
   "id": "user_group_vector",
   "metadata": {},
   "outputs": [],
   "source": [
    "# user_group_vector[0] - high_quality\n",
    "stats_ugv0 = calculate_statistics(extracted_data['user_group_vector_0'], \n",
    "                                   'user_group_vector[0] (high_quality)')\n",
    "fig1 = plot_histogram(extracted_data['user_group_vector_0'], \n",
    "                      'user_group_vector[0] (high_quality)', \n",
    "                      stats_ugv0, bins=[-0.5, 0.5, 1.5])\n",
    "plt.show()\n",
    "\n",
    "# user_group_vector[1] - low_price\n",
    "stats_ugv1 = calculate_statistics(extracted_data['user_group_vector_1'], \n",
    "                                   'user_group_vector[1] (low_price)')\n",
    "fig2 = plot_histogram(extracted_data['user_group_vector_1'], \n",
    "                      'user_group_vector[1] (low_price)', \n",
    "                      stats_ugv1, bins=[-0.5, 0.5, 1.5])\n",
    "plt.show()"
   ]
  },
  {
   "cell_type": "markdown",
   "id": "section_session",
   "metadata": {},
   "source": [
    "## 2. Session History 분석"
   ]
  },
  {
   "cell_type": "code",
   "execution_count": null,
   "id": "session_click_count",
   "metadata": {},
   "outputs": [],
   "source": [
    "# session_click_count\n",
    "stats_click = calculate_statistics(extracted_data['session_click_count'], \n",
    "                                    'session_click_count')\n",
    "fig3 = plot_histogram(extracted_data['session_click_count'], \n",
    "                      'session_click_count', stats_click, bins=20)\n",
    "plt.show()"
   ]
  },
  {
   "cell_type": "code",
   "execution_count": null,
   "id": "session_total_view_time",
   "metadata": {},
   "outputs": [],
   "source": [
    "# session_total_view_time\n",
    "stats_view_time = calculate_statistics(extracted_data['session_total_view_time'], \n",
    "                                        'session_total_view_time')\n",
    "fig4 = plot_histogram(extracted_data['session_total_view_time'], \n",
    "                      'session_total_view_time', stats_view_time, bins=30)\n",
    "plt.show()"
   ]
  },
  {
   "cell_type": "markdown",
   "id": "section_candidate",
   "metadata": {},
   "source": [
    "## 3. Candidate Item Info 분석"
   ]
  },
  {
   "cell_type": "code",
   "execution_count": null,
   "id": "predicted_price",
   "metadata": {},
   "outputs": [],
   "source": [
    "# predicted_price\n",
    "stats_price = calculate_statistics(extracted_data['predicted_price'], \n",
    "                                    'predicted_price')\n",
    "fig5 = plot_histogram(extracted_data['predicted_price'], \n",
    "                      'predicted_price', stats_price, bins=30)\n",
    "plt.show()"
   ]
  },
  {
   "cell_type": "code",
   "execution_count": null,
   "id": "lead_time",
   "metadata": {},
   "outputs": [],
   "source": [
    "# lead_time\n",
    "stats_lead = calculate_statistics(extracted_data['lead_time'], \n",
    "                                   'lead_time')\n",
    "fig6 = plot_histogram(extracted_data['lead_time'], \n",
    "                      'lead_time', stats_lead, bins=[0.5, 1.5, 2.5, 3.5, 4.5, 5.5])\n",
    "plt.show()"
   ]
  },
  {
   "cell_type": "code",
   "execution_count": null,
   "id": "predicted_quality",
   "metadata": {},
   "outputs": [],
   "source": [
    "# predicted_quality\n",
    "stats_quality = calculate_statistics(extracted_data['predicted_quality'], \n",
    "                                      'predicted_quality')\n",
    "fig7 = plot_histogram(extracted_data['predicted_quality'], \n",
    "                      'predicted_quality', stats_quality, bins=30)\n",
    "plt.show()"
   ]
  },
  {
   "cell_type": "code",
   "execution_count": null,
   "id": "promotion",
   "metadata": {},
   "outputs": [],
   "source": [
    "# promotion\n",
    "stats_promo = calculate_statistics(extracted_data['promotion'], \n",
    "                                    'promotion')\n",
    "fig8 = plot_histogram(extracted_data['promotion'], \n",
    "                      'promotion', stats_promo, bins=[-0.5, 0.5, 1.5])\n",
    "plt.show()"
   ]
  },
  {
   "cell_type": "markdown",
   "id": "section_action",
   "metadata": {},
   "source": [
    "## 4. Action 분석"
   ]
  },
  {
   "cell_type": "code",
   "execution_count": null,
   "id": "action_t",
   "metadata": {},
   "outputs": [],
   "source": [
    "# action_t\n",
    "stats_action = calculate_statistics(extracted_data['action_t'], \n",
    "                                     'action_t')\n",
    "fig9 = plot_histogram(extracted_data['action_t'], \n",
    "                      'action_t', stats_action, bins=[-0.5, 0.5, 1.5])\n",
    "plt.show()"
   ]
  },
  {
   "cell_type": "markdown",
   "id": "section_reward",
   "metadata": {},
   "source": [
    "## 5. Reward Ingredients 분석"
   ]
  },
  {
   "cell_type": "code",
   "execution_count": null,
   "id": "clicked",
   "metadata": {},
   "outputs": [],
   "source": [
    "# clicked\n",
    "stats_clicked = calculate_statistics(extracted_data['clicked'], \n",
    "                                      'clicked')\n",
    "fig10 = plot_histogram(extracted_data['clicked'], \n",
    "                       'clicked', stats_clicked, bins=[-0.5, 0.5, 1.5])\n",
    "plt.show()"
   ]
  },
  {
   "cell_type": "code",
   "execution_count": null,
   "id": "page_view_time_sec",
   "metadata": {},
   "outputs": [],
   "source": [
    "# page_view_time_sec\n",
    "stats_page_time = calculate_statistics(extracted_data['page_view_time_sec'], \n",
    "                                        'page_view_time_sec')\n",
    "fig11 = plot_histogram(extracted_data['page_view_time_sec'], \n",
    "                       'page_view_time_sec', stats_page_time, bins=40)\n",
    "plt.show()"
   ]
  },
  {
   "cell_type": "code",
   "execution_count": null,
   "id": "purchased",
   "metadata": {},
   "outputs": [],
   "source": [
    "# purchased\n",
    "stats_purchased = calculate_statistics(extracted_data['purchased'], \n",
    "                                        'purchased')\n",
    "fig12 = plot_histogram(extracted_data['purchased'], \n",
    "                       'purchased', stats_purchased, bins=[-0.5, 0.5, 1.5])\n",
    "plt.show()"
   ]
  },
  {
   "cell_type": "markdown",
   "id": "section_summary",
   "metadata": {},
   "source": [
    "## 6. 종합 요약 테이블"
   ]
  },
  {
   "cell_type": "code",
   "execution_count": null,
   "id": "summary_table",
   "metadata": {},
   "outputs": [],
   "source": [
    "# 모든 통계를 DataFrame으로 정리\n",
    "summary_data = {\n",
    "    'Field': [],\n",
    "    'Min': [],\n",
    "    'Max': [],\n",
    "    'Mean': [],\n",
    "    'Median': [],\n",
    "    'Std': []\n",
    "}\n",
    "\n",
    "all_stats = [\n",
    "    ('user_group_vector[0]', stats_ugv0),\n",
    "    ('user_group_vector[1]', stats_ugv1),\n",
    "    ('session_click_count', stats_click),\n",
    "    ('session_total_view_time', stats_view_time),\n",
    "    ('predicted_price', stats_price),\n",
    "    ('lead_time', stats_lead),\n",
    "    ('predicted_quality', stats_quality),\n",
    "    ('promotion', stats_promo),\n",
    "    ('action_t', stats_action),\n",
    "    ('clicked', stats_clicked),\n",
    "    ('page_view_time_sec', stats_page_time),\n",
    "    ('purchased', stats_purchased)\n",
    "]\n",
    "\n",
    "for field_name, stats in all_stats:\n",
    "    summary_data['Field'].append(field_name)\n",
    "    summary_data['Min'].append(stats['최소값 (Min)'])\n",
    "    summary_data['Max'].append(stats['최대값 (Max)'])\n",
    "    summary_data['Mean'].append(stats['평균 (Mean)'])\n",
    "    summary_data['Median'].append(stats['중앙값 (Median)'])\n",
    "    summary_data['Std'].append(stats['표준편차 (Std)'])\n",
    "\n",
    "summary_df = pd.DataFrame(summary_data)\n",
    "summary_df = summary_df.round(2)\n",
    "\n",
    "print(\"\\n\" + \"=\"*80)\n",
    "print(\"전체 통계 요약\")\n",
    "print(\"=\"*80)\n",
    "print(summary_df.to_string(index=False))\n",
    "\n",
    "# CSV로 저장\n",
    "summary_df.to_csv('data_statistics_summary.csv', index=False)\n",
    "print(\"\\n통계 요약을 'data_statistics_summary.csv'에 저장했습니다.\")"
   ]
  },
  {
   "cell_type": "markdown",
   "id": "section_correlation",
   "metadata": {},
   "source": [
    "## 7. 상관관계 분석 (보너스)"
   ]
  },
  {
   "cell_type": "code",
   "execution_count": null,
   "id": "correlation",
   "metadata": {},
   "outputs": [],
   "source": [
    "# 연속형 변수들의 상관관계 분석\n",
    "continuous_vars = {\n",
    "    'session_click_count': extracted_data['session_click_count'],\n",
    "    'session_total_view_time': extracted_data['session_total_view_time'],\n",
    "    'predicted_price': extracted_data['predicted_price'],\n",
    "    'predicted_quality': extracted_data['predicted_quality'],\n",
    "    'page_view_time_sec': extracted_data['page_view_time_sec'],\n",
    "    'action_t': extracted_data['action_t'],\n",
    "    'clicked': extracted_data['clicked'],\n",
    "    'purchased': extracted_data['purchased']\n",
    "}\n",
    "\n",
    "df_corr = pd.DataFrame(continuous_vars)\n",
    "correlation_matrix = df_corr.corr()\n",
    "\n",
    "# 상관관계 히트맵\n",
    "fig, ax = plt.subplots(figsize=(12, 10))\n",
    "im = ax.imshow(correlation_matrix, cmap='coolwarm', aspect='auto', vmin=-1, vmax=1)\n",
    "\n",
    "# 틱 설정\n",
    "ax.set_xticks(np.arange(len(correlation_matrix.columns)))\n",
    "ax.set_yticks(np.arange(len(correlation_matrix.columns)))\n",
    "ax.set_xticklabels(correlation_matrix.columns, rotation=45, ha='right')\n",
    "ax.set_yticklabels(correlation_matrix.columns)\n",
    "\n",
    "# 상관계수 표시\n",
    "for i in range(len(correlation_matrix.columns)):\n",
    "    for j in range(len(correlation_matrix.columns)):\n",
    "        text = ax.text(j, i, f'{correlation_matrix.iloc[i, j]:.2f}',\n",
    "                      ha=\"center\", va=\"center\", color=\"black\", fontsize=9)\n",
    "\n",
    "ax.set_title('Correlation Matrix', fontsize=14, fontweight='bold', pad=20)\n",
    "plt.colorbar(im, ax=ax)\n",
    "plt.tight_layout()\n",
    "plt.show()\n",
    "\n",
    "print(\"\\n상관관계 행렬:\")\n",
    "print(correlation_matrix.round(3))"
   ]
  },
  {
   "cell_type": "markdown",
   "id": "conclusion",
   "metadata": {},
   "source": [
    "## 결론\n",
    "\n",
    "이 노트북을 통해 dummy_data_100.json의 모든 주요 필드에 대한 통계와 분포를 확인할 수 있습니다.\n",
    "\n",
    "### 주요 발견사항:\n",
    "1. **User Groups**: 두 그룹(high_quality, low_price)이 균등하게 분포\n",
    "2. **Session Metrics**: 클릭 수와 체류 시간이 세션 진행에 따라 누적\n",
    "3. **Item Features**: 가격, 품질, 배송 시간의 다양한 분포\n",
    "4. **Actions & Rewards**: 클릭률과 구매 전환율의 현실적인 패턴\n",
    "5. **Correlations**: 변수 간의 관계 확인 (예: clicked와 purchased의 강한 상관관계)\n",
    "\n",
    "이 데이터는 DQN 모델 학습에 적합한 구조와 분포를 가지고 있습니다."
   ]
  }
 ],
 "metadata": {
  "kernelspec": {
   "display_name": "Python 3",
   "language": "python",
   "name": "python3"
  },
  "language_info": {
   "codemirror_mode": {
    "name": "ipython",
    "version": 3
   },
   "file_extension": ".py",
   "mimetype": "text/x-python",
   "name": "python",
   "nbconvert_exporter": "python",
   "pygments_lexer": "ipython3",
   "version": "3.11.0"
  }
 },
 "nbformat": 4,
 "nbformat_minor": 5
}
